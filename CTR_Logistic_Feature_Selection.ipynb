{
 "cells": [
  {
   "cell_type": "code",
   "execution_count": 1,
   "metadata": {},
   "outputs": [
    {
     "name": "stderr",
     "output_type": "stream",
     "text": [
      "Using TensorFlow backend.\n",
      "/usr/local/lib/python3.7/site-packages/sklearn/externals/joblib/__init__.py:15: DeprecationWarning: sklearn.externals.joblib is deprecated in 0.21 and will be removed in 0.23. Please import this functionality directly from joblib, which can be installed with: pip install joblib. If this warning is raised when loading pickled models, you may need to re-serialize those models with scikit-learn 0.21+.\n",
      "  warnings.warn(msg, category=DeprecationWarning)\n"
     ]
    }
   ],
   "source": [
    "# Basic library\n",
    "import os\n",
    "import pandas as pd\n",
    "import numpy as np\n",
    "import matplotlib.pyplot as plt\n",
    "import seaborn as sns\n",
    "from time import time\n",
    "from tqdm import tqdm, tnrange, tqdm_notebook\n",
    "from itertools import cycle\n",
    "from pprint import pprint\n",
    "\n",
    "\n",
    "# Data preprocessing\n",
    "# from sklearn.preprocessing import StandardScaler\n",
    "from sklearn.model_selection import train_test_split\n",
    "from imblearn.under_sampling import RandomUnderSampler\n",
    "# from imblearn.over_sampling import SMOTE\n",
    "from sklearn.utils import resample\n",
    "\n",
    "\n",
    "from sklearn.linear_model import LogisticRegression\n",
    "\n",
    "\n",
    "# Evaluation\n",
    "import sklearn\n",
    "from sklearn.metrics import confusion_matrix\n",
    "from sklearn.metrics import roc_curve\n",
    "from sklearn.metrics import roc_auc_score\n",
    "from sklearn.metrics import balanced_accuracy_score\n",
    "from sklearn.metrics import precision_recall_curve\n",
    "from sklearn.metrics import average_precision_score\n",
    "from sklearn.metrics import accuracy_score, f1_score, recall_score, precision_score\n",
    "from sklearn.externals import joblib"
   ]
  },
  {
   "cell_type": "markdown",
   "metadata": {},
   "source": [
    "# Display and Parameter Setting"
   ]
  },
  {
   "cell_type": "code",
   "execution_count": 2,
   "metadata": {},
   "outputs": [],
   "source": [
    "# Set dataframe display\n",
    "pd.set_option('display.max_columns', None)  # default = 20\n",
    "pd.set_option('display.expand_frame_repr', False) # default = True\n",
    "pd.set_option('display.max_colwidth', -1) # default = 50"
   ]
  },
  {
   "cell_type": "code",
   "execution_count": 3,
   "metadata": {},
   "outputs": [],
   "source": [
    "seed_num = 7"
   ]
  },
  {
   "cell_type": "markdown",
   "metadata": {},
   "source": [
    "# Import Data"
   ]
  },
  {
   "cell_type": "code",
   "execution_count": 4,
   "metadata": {},
   "outputs": [],
   "source": [
    "# https://towardsdatascience.com/why-and-how-to-use-pandas-with-large-data-9594dda2ea4c\n",
    "# read the large csv file with specified chunksize \n",
    "\n",
    "df_chunk = pd.read_csv(r'./data/avazu-ctr-prediction/train.csv', chunksize=100000)"
   ]
  },
  {
   "cell_type": "code",
   "execution_count": 5,
   "metadata": {},
   "outputs": [
    {
     "name": "stdout",
     "output_type": "stream",
     "text": [
      "Loading DataFrame to List.... \n",
      "Execution time =  185.22144103050232  seconds\n",
      "Combine All DataFrame.... \n",
      "Execution time =  251.3467619419098  seconds\n"
     ]
    }
   ],
   "source": [
    "chunk_list = []  # append each chunk df here \n",
    "\n",
    "start = time()\n",
    "\n",
    "# Each chunk is in df format\n",
    "print('Loading DataFrame to List.... ') \n",
    "for chunk in df_chunk:  \n",
    "    # perform data filtering \n",
    "#     chunk_filter = chunk_preprocessing(chunk)\n",
    "    \n",
    "    # Once the data filtering is done, append the chunk to list\n",
    "#     chunk_list.append(chunk_filter)\n",
    "    chunk_list.append(chunk)\n",
    "      \n",
    "t = time() - start\n",
    "print('Execution time = ', t, ' seconds')\n",
    "\n",
    "print('Combine All DataFrame.... ') \n",
    "# concat the list into dataframe \n",
    "df_concat = pd.concat(chunk_list)\n",
    "t = time() - start\n",
    "print('Execution time = ', t, ' seconds')"
   ]
  },
  {
   "cell_type": "code",
   "execution_count": 6,
   "metadata": {},
   "outputs": [
    {
     "name": "stdout",
     "output_type": "stream",
     "text": [
      "Execution time =  114.22681021690369  seconds\n"
     ]
    }
   ],
   "source": [
    "start = time()\n",
    "\n",
    "df_sam = df_concat.sample(n=300000,random_state=seed_num)\n",
    "\n",
    "t = time() - start\n",
    "print('Execution time = ', t, ' seconds')"
   ]
  },
  {
   "cell_type": "code",
   "execution_count": 7,
   "metadata": {},
   "outputs": [
    {
     "data": {
      "text/html": [
       "<div>\n",
       "<style scoped>\n",
       "    .dataframe tbody tr th:only-of-type {\n",
       "        vertical-align: middle;\n",
       "    }\n",
       "\n",
       "    .dataframe tbody tr th {\n",
       "        vertical-align: top;\n",
       "    }\n",
       "\n",
       "    .dataframe thead th {\n",
       "        text-align: right;\n",
       "    }\n",
       "</style>\n",
       "<table border=\"1\" class=\"dataframe\">\n",
       "  <thead>\n",
       "    <tr style=\"text-align: right;\">\n",
       "      <th></th>\n",
       "      <th>id</th>\n",
       "      <th>click</th>\n",
       "      <th>hour</th>\n",
       "      <th>C1</th>\n",
       "      <th>banner_pos</th>\n",
       "      <th>site_id</th>\n",
       "      <th>site_domain</th>\n",
       "      <th>site_category</th>\n",
       "      <th>app_id</th>\n",
       "      <th>app_domain</th>\n",
       "      <th>app_category</th>\n",
       "      <th>device_id</th>\n",
       "      <th>device_ip</th>\n",
       "      <th>device_model</th>\n",
       "      <th>device_type</th>\n",
       "      <th>device_conn_type</th>\n",
       "      <th>C14</th>\n",
       "      <th>C15</th>\n",
       "      <th>C16</th>\n",
       "      <th>C17</th>\n",
       "      <th>C18</th>\n",
       "      <th>C19</th>\n",
       "      <th>C20</th>\n",
       "      <th>C21</th>\n",
       "    </tr>\n",
       "  </thead>\n",
       "  <tbody>\n",
       "    <tr>\n",
       "      <th>count</th>\n",
       "      <td>3.000000e+05</td>\n",
       "      <td>300000.000000</td>\n",
       "      <td>3.000000e+05</td>\n",
       "      <td>300000.000000</td>\n",
       "      <td>300000.000000</td>\n",
       "      <td>300000</td>\n",
       "      <td>300000</td>\n",
       "      <td>300000</td>\n",
       "      <td>300000</td>\n",
       "      <td>300000</td>\n",
       "      <td>300000</td>\n",
       "      <td>300000</td>\n",
       "      <td>300000</td>\n",
       "      <td>300000</td>\n",
       "      <td>300000.000000</td>\n",
       "      <td>300000.000000</td>\n",
       "      <td>300000.000000</td>\n",
       "      <td>300000.000000</td>\n",
       "      <td>300000.000000</td>\n",
       "      <td>300000.000000</td>\n",
       "      <td>300000.000000</td>\n",
       "      <td>300000.000000</td>\n",
       "      <td>300000.000000</td>\n",
       "      <td>300000.000000</td>\n",
       "    </tr>\n",
       "    <tr>\n",
       "      <th>unique</th>\n",
       "      <td>NaN</td>\n",
       "      <td>NaN</td>\n",
       "      <td>NaN</td>\n",
       "      <td>NaN</td>\n",
       "      <td>NaN</td>\n",
       "      <td>2011</td>\n",
       "      <td>1981</td>\n",
       "      <td>22</td>\n",
       "      <td>2095</td>\n",
       "      <td>125</td>\n",
       "      <td>24</td>\n",
       "      <td>48717</td>\n",
       "      <td>203429</td>\n",
       "      <td>4117</td>\n",
       "      <td>NaN</td>\n",
       "      <td>NaN</td>\n",
       "      <td>NaN</td>\n",
       "      <td>NaN</td>\n",
       "      <td>NaN</td>\n",
       "      <td>NaN</td>\n",
       "      <td>NaN</td>\n",
       "      <td>NaN</td>\n",
       "      <td>NaN</td>\n",
       "      <td>NaN</td>\n",
       "    </tr>\n",
       "    <tr>\n",
       "      <th>top</th>\n",
       "      <td>NaN</td>\n",
       "      <td>NaN</td>\n",
       "      <td>NaN</td>\n",
       "      <td>NaN</td>\n",
       "      <td>NaN</td>\n",
       "      <td>85f751fd</td>\n",
       "      <td>c4e18dd6</td>\n",
       "      <td>50e219e0</td>\n",
       "      <td>ecad2386</td>\n",
       "      <td>7801e8d9</td>\n",
       "      <td>07d7df22</td>\n",
       "      <td>a99f214a</td>\n",
       "      <td>6b9769f2</td>\n",
       "      <td>8a4875bd</td>\n",
       "      <td>NaN</td>\n",
       "      <td>NaN</td>\n",
       "      <td>NaN</td>\n",
       "      <td>NaN</td>\n",
       "      <td>NaN</td>\n",
       "      <td>NaN</td>\n",
       "      <td>NaN</td>\n",
       "      <td>NaN</td>\n",
       "      <td>NaN</td>\n",
       "      <td>NaN</td>\n",
       "    </tr>\n",
       "    <tr>\n",
       "      <th>freq</th>\n",
       "      <td>NaN</td>\n",
       "      <td>NaN</td>\n",
       "      <td>NaN</td>\n",
       "      <td>NaN</td>\n",
       "      <td>NaN</td>\n",
       "      <td>108577</td>\n",
       "      <td>112540</td>\n",
       "      <td>122777</td>\n",
       "      <td>191423</td>\n",
       "      <td>201942</td>\n",
       "      <td>193924</td>\n",
       "      <td>247632</td>\n",
       "      <td>1571</td>\n",
       "      <td>18001</td>\n",
       "      <td>NaN</td>\n",
       "      <td>NaN</td>\n",
       "      <td>NaN</td>\n",
       "      <td>NaN</td>\n",
       "      <td>NaN</td>\n",
       "      <td>NaN</td>\n",
       "      <td>NaN</td>\n",
       "      <td>NaN</td>\n",
       "      <td>NaN</td>\n",
       "      <td>NaN</td>\n",
       "    </tr>\n",
       "    <tr>\n",
       "      <th>mean</th>\n",
       "      <td>9.218497e+18</td>\n",
       "      <td>0.170203</td>\n",
       "      <td>1.410256e+07</td>\n",
       "      <td>1004.970040</td>\n",
       "      <td>0.287483</td>\n",
       "      <td>NaN</td>\n",
       "      <td>NaN</td>\n",
       "      <td>NaN</td>\n",
       "      <td>NaN</td>\n",
       "      <td>NaN</td>\n",
       "      <td>NaN</td>\n",
       "      <td>NaN</td>\n",
       "      <td>NaN</td>\n",
       "      <td>NaN</td>\n",
       "      <td>1.016347</td>\n",
       "      <td>0.331523</td>\n",
       "      <td>18843.044873</td>\n",
       "      <td>318.896413</td>\n",
       "      <td>59.911580</td>\n",
       "      <td>2112.688697</td>\n",
       "      <td>1.427283</td>\n",
       "      <td>226.911587</td>\n",
       "      <td>53250.981227</td>\n",
       "      <td>83.536117</td>\n",
       "    </tr>\n",
       "    <tr>\n",
       "      <th>std</th>\n",
       "      <td>5.332471e+18</td>\n",
       "      <td>0.375812</td>\n",
       "      <td>2.968903e+02</td>\n",
       "      <td>1.094462</td>\n",
       "      <td>0.503691</td>\n",
       "      <td>NaN</td>\n",
       "      <td>NaN</td>\n",
       "      <td>NaN</td>\n",
       "      <td>NaN</td>\n",
       "      <td>NaN</td>\n",
       "      <td>NaN</td>\n",
       "      <td>NaN</td>\n",
       "      <td>NaN</td>\n",
       "      <td>NaN</td>\n",
       "      <td>0.528697</td>\n",
       "      <td>0.854559</td>\n",
       "      <td>4958.317594</td>\n",
       "      <td>21.039796</td>\n",
       "      <td>46.684169</td>\n",
       "      <td>609.719319</td>\n",
       "      <td>1.325523</td>\n",
       "      <td>350.804371</td>\n",
       "      <td>49954.705558</td>\n",
       "      <td>70.326656</td>\n",
       "    </tr>\n",
       "    <tr>\n",
       "      <th>min</th>\n",
       "      <td>3.176948e+13</td>\n",
       "      <td>0.000000</td>\n",
       "      <td>1.410210e+07</td>\n",
       "      <td>1001.000000</td>\n",
       "      <td>0.000000</td>\n",
       "      <td>NaN</td>\n",
       "      <td>NaN</td>\n",
       "      <td>NaN</td>\n",
       "      <td>NaN</td>\n",
       "      <td>NaN</td>\n",
       "      <td>NaN</td>\n",
       "      <td>NaN</td>\n",
       "      <td>NaN</td>\n",
       "      <td>NaN</td>\n",
       "      <td>0.000000</td>\n",
       "      <td>0.000000</td>\n",
       "      <td>375.000000</td>\n",
       "      <td>120.000000</td>\n",
       "      <td>20.000000</td>\n",
       "      <td>112.000000</td>\n",
       "      <td>0.000000</td>\n",
       "      <td>33.000000</td>\n",
       "      <td>-1.000000</td>\n",
       "      <td>1.000000</td>\n",
       "    </tr>\n",
       "    <tr>\n",
       "      <th>25%</th>\n",
       "      <td>4.598148e+18</td>\n",
       "      <td>0.000000</td>\n",
       "      <td>1.410230e+07</td>\n",
       "      <td>1005.000000</td>\n",
       "      <td>0.000000</td>\n",
       "      <td>NaN</td>\n",
       "      <td>NaN</td>\n",
       "      <td>NaN</td>\n",
       "      <td>NaN</td>\n",
       "      <td>NaN</td>\n",
       "      <td>NaN</td>\n",
       "      <td>NaN</td>\n",
       "      <td>NaN</td>\n",
       "      <td>NaN</td>\n",
       "      <td>1.000000</td>\n",
       "      <td>0.000000</td>\n",
       "      <td>16920.000000</td>\n",
       "      <td>320.000000</td>\n",
       "      <td>50.000000</td>\n",
       "      <td>1863.000000</td>\n",
       "      <td>0.000000</td>\n",
       "      <td>35.000000</td>\n",
       "      <td>-1.000000</td>\n",
       "      <td>23.000000</td>\n",
       "    </tr>\n",
       "    <tr>\n",
       "      <th>50%</th>\n",
       "      <td>9.225930e+18</td>\n",
       "      <td>0.000000</td>\n",
       "      <td>1.410260e+07</td>\n",
       "      <td>1005.000000</td>\n",
       "      <td>0.000000</td>\n",
       "      <td>NaN</td>\n",
       "      <td>NaN</td>\n",
       "      <td>NaN</td>\n",
       "      <td>NaN</td>\n",
       "      <td>NaN</td>\n",
       "      <td>NaN</td>\n",
       "      <td>NaN</td>\n",
       "      <td>NaN</td>\n",
       "      <td>NaN</td>\n",
       "      <td>1.000000</td>\n",
       "      <td>0.000000</td>\n",
       "      <td>20346.000000</td>\n",
       "      <td>320.000000</td>\n",
       "      <td>50.000000</td>\n",
       "      <td>2323.000000</td>\n",
       "      <td>2.000000</td>\n",
       "      <td>39.000000</td>\n",
       "      <td>100050.000000</td>\n",
       "      <td>61.000000</td>\n",
       "    </tr>\n",
       "    <tr>\n",
       "      <th>75%</th>\n",
       "      <td>1.383944e+19</td>\n",
       "      <td>0.000000</td>\n",
       "      <td>1.410281e+07</td>\n",
       "      <td>1005.000000</td>\n",
       "      <td>1.000000</td>\n",
       "      <td>NaN</td>\n",
       "      <td>NaN</td>\n",
       "      <td>NaN</td>\n",
       "      <td>NaN</td>\n",
       "      <td>NaN</td>\n",
       "      <td>NaN</td>\n",
       "      <td>NaN</td>\n",
       "      <td>NaN</td>\n",
       "      <td>NaN</td>\n",
       "      <td>1.000000</td>\n",
       "      <td>0.000000</td>\n",
       "      <td>21894.000000</td>\n",
       "      <td>320.000000</td>\n",
       "      <td>50.000000</td>\n",
       "      <td>2526.000000</td>\n",
       "      <td>3.000000</td>\n",
       "      <td>171.000000</td>\n",
       "      <td>100088.000000</td>\n",
       "      <td>102.000000</td>\n",
       "    </tr>\n",
       "    <tr>\n",
       "      <th>max</th>\n",
       "      <td>1.844664e+19</td>\n",
       "      <td>1.000000</td>\n",
       "      <td>1.410302e+07</td>\n",
       "      <td>1012.000000</td>\n",
       "      <td>7.000000</td>\n",
       "      <td>NaN</td>\n",
       "      <td>NaN</td>\n",
       "      <td>NaN</td>\n",
       "      <td>NaN</td>\n",
       "      <td>NaN</td>\n",
       "      <td>NaN</td>\n",
       "      <td>NaN</td>\n",
       "      <td>NaN</td>\n",
       "      <td>NaN</td>\n",
       "      <td>5.000000</td>\n",
       "      <td>5.000000</td>\n",
       "      <td>24046.000000</td>\n",
       "      <td>1024.000000</td>\n",
       "      <td>1024.000000</td>\n",
       "      <td>2757.000000</td>\n",
       "      <td>3.000000</td>\n",
       "      <td>1839.000000</td>\n",
       "      <td>100248.000000</td>\n",
       "      <td>255.000000</td>\n",
       "    </tr>\n",
       "  </tbody>\n",
       "</table>\n",
       "</div>"
      ],
      "text/plain": [
       "                  id          click          hour             C1     banner_pos   site_id site_domain site_category    app_id app_domain app_category device_id device_ip device_model    device_type  device_conn_type            C14            C15            C16            C17            C18            C19            C20            C21\n",
       "count   3.000000e+05  300000.000000  3.000000e+05  300000.000000  300000.000000  300000    300000      300000        300000    300000     300000       300000    300000    300000       300000.000000  300000.000000     300000.000000  300000.000000  300000.000000  300000.000000  300000.000000  300000.000000  300000.000000  300000.000000\n",
       "unique NaN           NaN            NaN           NaN            NaN             2011      1981        22            2095      125        24           48717     203429    4117        NaN            NaN               NaN            NaN            NaN            NaN            NaN            NaN            NaN            NaN           \n",
       "top    NaN           NaN            NaN           NaN            NaN             85f751fd  c4e18dd6    50e219e0      ecad2386  7801e8d9   07d7df22     a99f214a  6b9769f2  8a4875bd    NaN            NaN               NaN            NaN            NaN            NaN            NaN            NaN            NaN            NaN           \n",
       "freq   NaN           NaN            NaN           NaN            NaN             108577    112540      122777        191423    201942     193924       247632    1571      18001       NaN            NaN               NaN            NaN            NaN            NaN            NaN            NaN            NaN            NaN           \n",
       "mean    9.218497e+18  0.170203       1.410256e+07  1004.970040    0.287483       NaN       NaN         NaN           NaN       NaN        NaN          NaN       NaN       NaN          1.016347       0.331523          18843.044873   318.896413     59.911580      2112.688697    1.427283       226.911587     53250.981227   83.536117    \n",
       "std     5.332471e+18  0.375812       2.968903e+02  1.094462       0.503691       NaN       NaN         NaN           NaN       NaN        NaN          NaN       NaN       NaN          0.528697       0.854559          4958.317594    21.039796      46.684169      609.719319     1.325523       350.804371     49954.705558   70.326656    \n",
       "min     3.176948e+13  0.000000       1.410210e+07  1001.000000    0.000000       NaN       NaN         NaN           NaN       NaN        NaN          NaN       NaN       NaN          0.000000       0.000000          375.000000     120.000000     20.000000      112.000000     0.000000       33.000000     -1.000000       1.000000     \n",
       "25%     4.598148e+18  0.000000       1.410230e+07  1005.000000    0.000000       NaN       NaN         NaN           NaN       NaN        NaN          NaN       NaN       NaN          1.000000       0.000000          16920.000000   320.000000     50.000000      1863.000000    0.000000       35.000000     -1.000000       23.000000    \n",
       "50%     9.225930e+18  0.000000       1.410260e+07  1005.000000    0.000000       NaN       NaN         NaN           NaN       NaN        NaN          NaN       NaN       NaN          1.000000       0.000000          20346.000000   320.000000     50.000000      2323.000000    2.000000       39.000000      100050.000000  61.000000    \n",
       "75%     1.383944e+19  0.000000       1.410281e+07  1005.000000    1.000000       NaN       NaN         NaN           NaN       NaN        NaN          NaN       NaN       NaN          1.000000       0.000000          21894.000000   320.000000     50.000000      2526.000000    3.000000       171.000000     100088.000000  102.000000   \n",
       "max     1.844664e+19  1.000000       1.410302e+07  1012.000000    7.000000       NaN       NaN         NaN           NaN       NaN        NaN          NaN       NaN       NaN          5.000000       5.000000          24046.000000   1024.000000    1024.000000    2757.000000    3.000000       1839.000000    100248.000000  255.000000   "
      ]
     },
     "execution_count": 7,
     "metadata": {},
     "output_type": "execute_result"
    }
   ],
   "source": [
    "df_sam.describe(include='all')"
   ]
  },
  {
   "cell_type": "code",
   "execution_count": 9,
   "metadata": {},
   "outputs": [],
   "source": [
    "# df = pd.read_csv('./data/avazu-ctr-prediction/train.csv', nrows=300000)\n",
    "# df.describe(include='all')\n",
    "# df = df_concat.sample(n=300000,random_state=seed_num)\n",
    "df = df_sam.copy()"
   ]
  },
  {
   "cell_type": "code",
   "execution_count": 10,
   "metadata": {},
   "outputs": [
    {
     "name": "stdout",
     "output_type": "stream",
     "text": [
      "<class 'pandas.core.frame.DataFrame'>\n",
      "Int64Index: 300000 entries, 32509287 to 33935746\n",
      "Data columns (total 24 columns):\n",
      "id                  300000 non-null float64\n",
      "click               300000 non-null int64\n",
      "hour                300000 non-null int64\n",
      "C1                  300000 non-null int64\n",
      "banner_pos          300000 non-null int64\n",
      "site_id             300000 non-null object\n",
      "site_domain         300000 non-null object\n",
      "site_category       300000 non-null object\n",
      "app_id              300000 non-null object\n",
      "app_domain          300000 non-null object\n",
      "app_category        300000 non-null object\n",
      "device_id           300000 non-null object\n",
      "device_ip           300000 non-null object\n",
      "device_model        300000 non-null object\n",
      "device_type         300000 non-null int64\n",
      "device_conn_type    300000 non-null int64\n",
      "C14                 300000 non-null int64\n",
      "C15                 300000 non-null int64\n",
      "C16                 300000 non-null int64\n",
      "C17                 300000 non-null int64\n",
      "C18                 300000 non-null int64\n",
      "C19                 300000 non-null int64\n",
      "C20                 300000 non-null int64\n",
      "C21                 300000 non-null int64\n",
      "dtypes: float64(1), int64(14), object(9)\n",
      "memory usage: 57.2+ MB\n"
     ]
    }
   ],
   "source": [
    "# df = df.drop(['id','hour'], axis=1)\n",
    "df.info()"
   ]
  },
  {
   "cell_type": "code",
   "execution_count": 11,
   "metadata": {},
   "outputs": [
    {
     "name": "stdout",
     "output_type": "stream",
     "text": [
      "0    248939\n",
      "1    51061 \n",
      "Name: click, dtype: int64\n"
     ]
    },
    {
     "data": {
      "image/png": "[encoded data removed]",
      "text/plain": [
       "<Figure size 576x432 with 1 Axes>"
      ]
     },
     "metadata": {
      "needs_background": "light"
     },
     "output_type": "display_data"
    }
   ],
   "source": [
    "import matplotlib \n",
    "\n",
    "# Fill Paramter\n",
    "fs = 16 # Font size\n",
    "x_data = df\n",
    "x_col = 'click' # column to count\n",
    "x_hue = None # For divide column\n",
    "\n",
    "matplotlib.rc('xtick', labelsize = fs-2)     \n",
    "matplotlib.rc('ytick', labelsize = fs-2)\n",
    "\n",
    "counts = x_data[x_col].value_counts()\n",
    "max_count = max(counts)\n",
    "total_count = sum(counts)\n",
    "print(counts)\n",
    "fig = plt.figure(figsize= (8,6))\n",
    "ax = sns.countplot(x = x_col, hue = x_hue, data=x_data, order = counts.iloc[:10].index)\n",
    "# fig.suptitle('test title', fontsize=12)\n",
    "ax.set_title('Click-Through Rate (CTR)', fontsize = fs, fontweight='bold' )\n",
    "ax.set_xlabel('Non-click(0) / Click(1)', color = 'r', fontsize = fs, fontweight='bold')\n",
    "ax.set_ylabel('Frequency', color = 'b', fontsize = fs, fontweight='bold')\n",
    "# plt.xticks(rotation=15, color='r', size=16)\n",
    "plt.xticks(color='r', size=16)\n",
    "plt.yticks(color='b', size=16)\n",
    "\n",
    "for i, v in enumerate(counts[:10]):\n",
    "        ax.text(x = i, y=v + max_count*0.01 , s='{:,}'.format(v), horizontalalignment='center', color='black', fontweight='bold')\n",
    "        ax.text(x = i, y= v/2, s=str('{:.2f}'.format(v*100/total_count))+'%',\n",
    "                color='yellow', fontweight='bold', size = 14,\n",
    "                horizontalalignment='center', \n",
    "                verticalalignment='center' \n",
    "                )"
   ]
  },
  {
   "cell_type": "markdown",
   "metadata": {},
   "source": [
    "# Convert Data Type"
   ]
  },
  {
   "cell_type": "code",
   "execution_count": 12,
   "metadata": {},
   "outputs": [],
   "source": [
    "def cvt_type(df, col_list, dtype = 'category'):\n",
    "    for col in col_list:\n",
    "        df[col] = df[col].astype('category')\n",
    "    return df"
   ]
  },
  {
   "cell_type": "code",
   "execution_count": 13,
   "metadata": {},
   "outputs": [
    {
     "data": {
      "text/plain": [
       "['click',\n",
       " 'hour',\n",
       " 'C1',\n",
       " 'banner_pos',\n",
       " 'site_id',\n",
       " 'site_domain',\n",
       " 'site_category',\n",
       " 'app_id',\n",
       " 'app_domain',\n",
       " 'app_category',\n",
       " 'device_id',\n",
       " 'device_ip',\n",
       " 'device_model',\n",
       " 'device_type',\n",
       " 'device_conn_type',\n",
       " 'C14',\n",
       " 'C15',\n",
       " 'C16',\n",
       " 'C17',\n",
       " 'C18',\n",
       " 'C19',\n",
       " 'C20',\n",
       " 'C21']"
      ]
     },
     "execution_count": 13,
     "metadata": {},
     "output_type": "execute_result"
    }
   ],
   "source": [
    "col_list = df.columns.to_list()\n",
    "col_list.remove('id')\n",
    "col_list"
   ]
  },
  {
   "cell_type": "code",
   "execution_count": 14,
   "metadata": {},
   "outputs": [
    {
     "name": "stdout",
     "output_type": "stream",
     "text": [
      "<class 'pandas.core.frame.DataFrame'>\n",
      "Int64Index: 300000 entries, 32509287 to 33935746\n",
      "Data columns (total 24 columns):\n",
      "id                  300000 non-null float64\n",
      "click               300000 non-null category\n",
      "hour                300000 non-null category\n",
      "C1                  300000 non-null category\n",
      "banner_pos          300000 non-null category\n",
      "site_id             300000 non-null category\n",
      "site_domain         300000 non-null category\n",
      "site_category       300000 non-null category\n",
      "app_id              300000 non-null category\n",
      "app_domain          300000 non-null category\n",
      "app_category        300000 non-null category\n",
      "device_id           300000 non-null category\n",
      "device_ip           300000 non-null category\n",
      "device_model        300000 non-null category\n",
      "device_type         300000 non-null category\n",
      "device_conn_type    300000 non-null category\n",
      "C14                 300000 non-null category\n",
      "C15                 300000 non-null category\n",
      "C16                 300000 non-null category\n",
      "C17                 300000 non-null category\n",
      "C18                 300000 non-null category\n",
      "C19                 300000 non-null category\n",
      "C20                 300000 non-null category\n",
      "C21                 300000 non-null category\n",
      "dtypes: category(23), float64(1)\n",
      "memory usage: 39.0 MB\n"
     ]
    },
    {
     "data": {
      "text/html": [
       "<div>\n",
       "<style scoped>\n",
       "    .dataframe tbody tr th:only-of-type {\n",
       "        vertical-align: middle;\n",
       "    }\n",
       "\n",
       "    .dataframe tbody tr th {\n",
       "        vertical-align: top;\n",
       "    }\n",
       "\n",
       "    .dataframe thead th {\n",
       "        text-align: right;\n",
       "    }\n",
       "</style>\n",
       "<table border=\"1\" class=\"dataframe\">\n",
       "  <thead>\n",
       "    <tr style=\"text-align: right;\">\n",
       "      <th></th>\n",
       "      <th>id</th>\n",
       "      <th>click</th>\n",
       "      <th>hour</th>\n",
       "      <th>C1</th>\n",
       "      <th>banner_pos</th>\n",
       "      <th>site_id</th>\n",
       "      <th>site_domain</th>\n",
       "      <th>site_category</th>\n",
       "      <th>app_id</th>\n",
       "      <th>app_domain</th>\n",
       "      <th>app_category</th>\n",
       "      <th>device_id</th>\n",
       "      <th>device_ip</th>\n",
       "      <th>device_model</th>\n",
       "      <th>device_type</th>\n",
       "      <th>device_conn_type</th>\n",
       "      <th>C14</th>\n",
       "      <th>C15</th>\n",
       "      <th>C16</th>\n",
       "      <th>C17</th>\n",
       "      <th>C18</th>\n",
       "      <th>C19</th>\n",
       "      <th>C20</th>\n",
       "      <th>C21</th>\n",
       "    </tr>\n",
       "  </thead>\n",
       "  <tbody>\n",
       "    <tr>\n",
       "      <th>count</th>\n",
       "      <td>3.000000e+05</td>\n",
       "      <td>300000.0</td>\n",
       "      <td>300000.0</td>\n",
       "      <td>300000.0</td>\n",
       "      <td>300000.0</td>\n",
       "      <td>300000</td>\n",
       "      <td>300000</td>\n",
       "      <td>300000</td>\n",
       "      <td>300000</td>\n",
       "      <td>300000</td>\n",
       "      <td>300000</td>\n",
       "      <td>300000</td>\n",
       "      <td>300000</td>\n",
       "      <td>300000</td>\n",
       "      <td>300000.0</td>\n",
       "      <td>300000.0</td>\n",
       "      <td>300000.0</td>\n",
       "      <td>300000.0</td>\n",
       "      <td>300000.0</td>\n",
       "      <td>300000.0</td>\n",
       "      <td>300000.0</td>\n",
       "      <td>300000.0</td>\n",
       "      <td>300000.0</td>\n",
       "      <td>300000.0</td>\n",
       "    </tr>\n",
       "    <tr>\n",
       "      <th>unique</th>\n",
       "      <td>NaN</td>\n",
       "      <td>2.0</td>\n",
       "      <td>240.0</td>\n",
       "      <td>7.0</td>\n",
       "      <td>7.0</td>\n",
       "      <td>2011</td>\n",
       "      <td>1981</td>\n",
       "      <td>22</td>\n",
       "      <td>2095</td>\n",
       "      <td>125</td>\n",
       "      <td>24</td>\n",
       "      <td>48717</td>\n",
       "      <td>203429</td>\n",
       "      <td>4117</td>\n",
       "      <td>4.0</td>\n",
       "      <td>4.0</td>\n",
       "      <td>1975.0</td>\n",
       "      <td>8.0</td>\n",
       "      <td>9.0</td>\n",
       "      <td>410.0</td>\n",
       "      <td>4.0</td>\n",
       "      <td>64.0</td>\n",
       "      <td>160.0</td>\n",
       "      <td>60.0</td>\n",
       "    </tr>\n",
       "    <tr>\n",
       "      <th>top</th>\n",
       "      <td>NaN</td>\n",
       "      <td>0.0</td>\n",
       "      <td>14102209.0</td>\n",
       "      <td>1005.0</td>\n",
       "      <td>0.0</td>\n",
       "      <td>85f751fd</td>\n",
       "      <td>c4e18dd6</td>\n",
       "      <td>50e219e0</td>\n",
       "      <td>ecad2386</td>\n",
       "      <td>7801e8d9</td>\n",
       "      <td>07d7df22</td>\n",
       "      <td>a99f214a</td>\n",
       "      <td>6b9769f2</td>\n",
       "      <td>8a4875bd</td>\n",
       "      <td>1.0</td>\n",
       "      <td>0.0</td>\n",
       "      <td>4687.0</td>\n",
       "      <td>320.0</td>\n",
       "      <td>50.0</td>\n",
       "      <td>1722.0</td>\n",
       "      <td>0.0</td>\n",
       "      <td>35.0</td>\n",
       "      <td>-1.0</td>\n",
       "      <td>23.0</td>\n",
       "    </tr>\n",
       "    <tr>\n",
       "      <th>freq</th>\n",
       "      <td>NaN</td>\n",
       "      <td>248939.0</td>\n",
       "      <td>3470.0</td>\n",
       "      <td>275689.0</td>\n",
       "      <td>216054.0</td>\n",
       "      <td>108577</td>\n",
       "      <td>112540</td>\n",
       "      <td>122777</td>\n",
       "      <td>191423</td>\n",
       "      <td>201942</td>\n",
       "      <td>193924</td>\n",
       "      <td>247632</td>\n",
       "      <td>1571</td>\n",
       "      <td>18001</td>\n",
       "      <td>276899.0</td>\n",
       "      <td>258803.0</td>\n",
       "      <td>7090.0</td>\n",
       "      <td>280088.0</td>\n",
       "      <td>283241.0</td>\n",
       "      <td>33648.0</td>\n",
       "      <td>126155.0</td>\n",
       "      <td>90656.0</td>\n",
       "      <td>140425.0</td>\n",
       "      <td>65456.0</td>\n",
       "    </tr>\n",
       "    <tr>\n",
       "      <th>mean</th>\n",
       "      <td>9.218497e+18</td>\n",
       "      <td>NaN</td>\n",
       "      <td>NaN</td>\n",
       "      <td>NaN</td>\n",
       "      <td>NaN</td>\n",
       "      <td>NaN</td>\n",
       "      <td>NaN</td>\n",
       "      <td>NaN</td>\n",
       "      <td>NaN</td>\n",
       "      <td>NaN</td>\n",
       "      <td>NaN</td>\n",
       "      <td>NaN</td>\n",
       "      <td>NaN</td>\n",
       "      <td>NaN</td>\n",
       "      <td>NaN</td>\n",
       "      <td>NaN</td>\n",
       "      <td>NaN</td>\n",
       "      <td>NaN</td>\n",
       "      <td>NaN</td>\n",
       "      <td>NaN</td>\n",
       "      <td>NaN</td>\n",
       "      <td>NaN</td>\n",
       "      <td>NaN</td>\n",
       "      <td>NaN</td>\n",
       "    </tr>\n",
       "    <tr>\n",
       "      <th>std</th>\n",
       "      <td>5.332471e+18</td>\n",
       "      <td>NaN</td>\n",
       "      <td>NaN</td>\n",
       "      <td>NaN</td>\n",
       "      <td>NaN</td>\n",
       "      <td>NaN</td>\n",
       "      <td>NaN</td>\n",
       "      <td>NaN</td>\n",
       "      <td>NaN</td>\n",
       "      <td>NaN</td>\n",
       "      <td>NaN</td>\n",
       "      <td>NaN</td>\n",
       "      <td>NaN</td>\n",
       "      <td>NaN</td>\n",
       "      <td>NaN</td>\n",
       "      <td>NaN</td>\n",
       "      <td>NaN</td>\n",
       "      <td>NaN</td>\n",
       "      <td>NaN</td>\n",
       "      <td>NaN</td>\n",
       "      <td>NaN</td>\n",
       "      <td>NaN</td>\n",
       "      <td>NaN</td>\n",
       "      <td>NaN</td>\n",
       "    </tr>\n",
       "    <tr>\n",
       "      <th>min</th>\n",
       "      <td>3.176948e+13</td>\n",
       "      <td>NaN</td>\n",
       "      <td>NaN</td>\n",
       "      <td>NaN</td>\n",
       "      <td>NaN</td>\n",
       "      <td>NaN</td>\n",
       "      <td>NaN</td>\n",
       "      <td>NaN</td>\n",
       "      <td>NaN</td>\n",
       "      <td>NaN</td>\n",
       "      <td>NaN</td>\n",
       "      <td>NaN</td>\n",
       "      <td>NaN</td>\n",
       "      <td>NaN</td>\n",
       "      <td>NaN</td>\n",
       "      <td>NaN</td>\n",
       "      <td>NaN</td>\n",
       "      <td>NaN</td>\n",
       "      <td>NaN</td>\n",
       "      <td>NaN</td>\n",
       "      <td>NaN</td>\n",
       "      <td>NaN</td>\n",
       "      <td>NaN</td>\n",
       "      <td>NaN</td>\n",
       "    </tr>\n",
       "    <tr>\n",
       "      <th>25%</th>\n",
       "      <td>4.598148e+18</td>\n",
       "      <td>NaN</td>\n",
       "      <td>NaN</td>\n",
       "      <td>NaN</td>\n",
       "      <td>NaN</td>\n",
       "      <td>NaN</td>\n",
       "      <td>NaN</td>\n",
       "      <td>NaN</td>\n",
       "      <td>NaN</td>\n",
       "      <td>NaN</td>\n",
       "      <td>NaN</td>\n",
       "      <td>NaN</td>\n",
       "      <td>NaN</td>\n",
       "      <td>NaN</td>\n",
       "      <td>NaN</td>\n",
       "      <td>NaN</td>\n",
       "      <td>NaN</td>\n",
       "      <td>NaN</td>\n",
       "      <td>NaN</td>\n",
       "      <td>NaN</td>\n",
       "      <td>NaN</td>\n",
       "      <td>NaN</td>\n",
       "      <td>NaN</td>\n",
       "      <td>NaN</td>\n",
       "    </tr>\n",
       "    <tr>\n",
       "      <th>50%</th>\n",
       "      <td>9.225930e+18</td>\n",
       "      <td>NaN</td>\n",
       "      <td>NaN</td>\n",
       "      <td>NaN</td>\n",
       "      <td>NaN</td>\n",
       "      <td>NaN</td>\n",
       "      <td>NaN</td>\n",
       "      <td>NaN</td>\n",
       "      <td>NaN</td>\n",
       "      <td>NaN</td>\n",
       "      <td>NaN</td>\n",
       "      <td>NaN</td>\n",
       "      <td>NaN</td>\n",
       "      <td>NaN</td>\n",
       "      <td>NaN</td>\n",
       "      <td>NaN</td>\n",
       "      <td>NaN</td>\n",
       "      <td>NaN</td>\n",
       "      <td>NaN</td>\n",
       "      <td>NaN</td>\n",
       "      <td>NaN</td>\n",
       "      <td>NaN</td>\n",
       "      <td>NaN</td>\n",
       "      <td>NaN</td>\n",
       "    </tr>\n",
       "    <tr>\n",
       "      <th>75%</th>\n",
       "      <td>1.383944e+19</td>\n",
       "      <td>NaN</td>\n",
       "      <td>NaN</td>\n",
       "      <td>NaN</td>\n",
       "      <td>NaN</td>\n",
       "      <td>NaN</td>\n",
       "      <td>NaN</td>\n",
       "      <td>NaN</td>\n",
       "      <td>NaN</td>\n",
       "      <td>NaN</td>\n",
       "      <td>NaN</td>\n",
       "      <td>NaN</td>\n",
       "      <td>NaN</td>\n",
       "      <td>NaN</td>\n",
       "      <td>NaN</td>\n",
       "      <td>NaN</td>\n",
       "      <td>NaN</td>\n",
       "      <td>NaN</td>\n",
       "      <td>NaN</td>\n",
       "      <td>NaN</td>\n",
       "      <td>NaN</td>\n",
       "      <td>NaN</td>\n",
       "      <td>NaN</td>\n",
       "      <td>NaN</td>\n",
       "    </tr>\n",
       "    <tr>\n",
       "      <th>max</th>\n",
       "      <td>1.844664e+19</td>\n",
       "      <td>NaN</td>\n",
       "      <td>NaN</td>\n",
       "      <td>NaN</td>\n",
       "      <td>NaN</td>\n",
       "      <td>NaN</td>\n",
       "      <td>NaN</td>\n",
       "      <td>NaN</td>\n",
       "      <td>NaN</td>\n",
       "      <td>NaN</td>\n",
       "      <td>NaN</td>\n",
       "      <td>NaN</td>\n",
       "      <td>NaN</td>\n",
       "      <td>NaN</td>\n",
       "      <td>NaN</td>\n",
       "      <td>NaN</td>\n",
       "      <td>NaN</td>\n",
       "      <td>NaN</td>\n",
       "      <td>NaN</td>\n",
       "      <td>NaN</td>\n",
       "      <td>NaN</td>\n",
       "      <td>NaN</td>\n",
       "      <td>NaN</td>\n",
       "      <td>NaN</td>\n",
       "    </tr>\n",
       "  </tbody>\n",
       "</table>\n",
       "</div>"
      ],
      "text/plain": [
       "                  id     click        hour        C1  banner_pos   site_id site_domain site_category    app_id app_domain app_category device_id device_ip device_model  device_type  device_conn_type       C14       C15       C16       C17       C18       C19       C20       C21\n",
       "count   3.000000e+05  300000.0  300000.0    300000.0  300000.0    300000    300000      300000        300000    300000     300000       300000    300000    300000       300000.0     300000.0          300000.0  300000.0  300000.0  300000.0  300000.0  300000.0  300000.0  300000.0\n",
       "unique NaN            2.0       240.0       7.0       7.0         2011      1981        22            2095      125        24           48717     203429    4117         4.0          4.0               1975.0    8.0       9.0       410.0     4.0       64.0      160.0     60.0    \n",
       "top    NaN            0.0       14102209.0  1005.0    0.0         85f751fd  c4e18dd6    50e219e0      ecad2386  7801e8d9   07d7df22     a99f214a  6b9769f2  8a4875bd     1.0          0.0               4687.0    320.0     50.0      1722.0    0.0       35.0     -1.0       23.0    \n",
       "freq   NaN            248939.0  3470.0      275689.0  216054.0    108577    112540      122777        191423    201942     193924       247632    1571      18001        276899.0     258803.0          7090.0    280088.0  283241.0  33648.0   126155.0  90656.0   140425.0  65456.0 \n",
       "mean    9.218497e+18 NaN       NaN         NaN       NaN          NaN       NaN         NaN           NaN       NaN        NaN          NaN       NaN       NaN         NaN          NaN               NaN       NaN       NaN       NaN       NaN       NaN       NaN       NaN      \n",
       "std     5.332471e+18 NaN       NaN         NaN       NaN          NaN       NaN         NaN           NaN       NaN        NaN          NaN       NaN       NaN         NaN          NaN               NaN       NaN       NaN       NaN       NaN       NaN       NaN       NaN      \n",
       "min     3.176948e+13 NaN       NaN         NaN       NaN          NaN       NaN         NaN           NaN       NaN        NaN          NaN       NaN       NaN         NaN          NaN               NaN       NaN       NaN       NaN       NaN       NaN       NaN       NaN      \n",
       "25%     4.598148e+18 NaN       NaN         NaN       NaN          NaN       NaN         NaN           NaN       NaN        NaN          NaN       NaN       NaN         NaN          NaN               NaN       NaN       NaN       NaN       NaN       NaN       NaN       NaN      \n",
       "50%     9.225930e+18 NaN       NaN         NaN       NaN          NaN       NaN         NaN           NaN       NaN        NaN          NaN       NaN       NaN         NaN          NaN               NaN       NaN       NaN       NaN       NaN       NaN       NaN       NaN      \n",
       "75%     1.383944e+19 NaN       NaN         NaN       NaN          NaN       NaN         NaN           NaN       NaN        NaN          NaN       NaN       NaN         NaN          NaN               NaN       NaN       NaN       NaN       NaN       NaN       NaN       NaN      \n",
       "max     1.844664e+19 NaN       NaN         NaN       NaN          NaN       NaN         NaN           NaN       NaN        NaN          NaN       NaN       NaN         NaN          NaN               NaN       NaN       NaN       NaN       NaN       NaN       NaN       NaN      "
      ]
     },
     "execution_count": 14,
     "metadata": {},
     "output_type": "execute_result"
    }
   ],
   "source": [
    "df = cvt_type(df, col_list=col_list)\n",
    "df.info()\n",
    "df.describe(include='all')"
   ]
  },
  {
   "cell_type": "code",
   "execution_count": 15,
   "metadata": {},
   "outputs": [
    {
     "name": "stdout",
     "output_type": "stream",
     "text": [
      "\n",
      "id : 300000\n",
      "\n",
      "click : 2\n",
      ">>> Item Lists: [0, 1]\n",
      "\n",
      "hour : 240\n",
      "\n",
      "C1 : 7\n",
      "\n",
      "banner_pos : 7\n",
      "\n",
      "site_id : 2011\n",
      "\n",
      "site_domain : 1981\n",
      "\n",
      "site_category : 22\n",
      "\n",
      "app_id : 2095\n",
      "\n",
      "app_domain : 125\n",
      "\n",
      "app_category : 24\n",
      "\n",
      "device_id : 48717\n",
      "\n",
      "device_ip : 203429\n",
      "\n",
      "device_model : 4117\n",
      "\n",
      "device_type : 4\n",
      ">>> Item Lists: [1, 0, 4, 5]\n",
      "\n",
      "device_conn_type : 4\n",
      ">>> Item Lists: [0, 3, 2, 5]\n",
      "\n",
      "C14 : 1975\n",
      "\n",
      "C15 : 8\n",
      "\n",
      "C16 : 9\n",
      "\n",
      "C17 : 410\n",
      "\n",
      "C18 : 4\n",
      ">>> Item Lists: [0, 2, 3, 1]\n",
      "\n",
      "C19 : 64\n",
      "\n",
      "C20 : 160\n",
      "\n",
      "C21 : 60\n"
     ]
    }
   ],
   "source": [
    "from pprint import pprint\n",
    "# Print unique value each column which less than 5 unique value\n",
    "col_list = df.columns.tolist()\n",
    "exclude_list = []\n",
    "for i in col_list:\n",
    "    nuni = df[i].nunique()\n",
    "    print('\\n{} : {}'.format(str(i),nuni))\n",
    "    if nuni < 5:\n",
    "        uni = df[i].unique().tolist()\n",
    "        print('>>> Item Lists: {}'.format(uni))\n",
    "    if nuni > 1000 or nuni < 3:\n",
    "        exclude_list.append(i)    \n",
    "#         pprint(f'{str(i)} Number of Unique Item: {nuni} Item Lists: {uni}')"
   ]
  },
  {
   "cell_type": "code",
   "execution_count": 16,
   "metadata": {},
   "outputs": [
    {
     "name": "stdout",
     "output_type": "stream",
     "text": [
      "['id', 'click', 'site_id', 'site_domain', 'app_id', 'device_id', 'device_ip', 'device_model', 'C14']\n"
     ]
    }
   ],
   "source": [
    "print(exclude_list)"
   ]
  },
  {
   "cell_type": "markdown",
   "metadata": {},
   "source": [
    "# Assign Value X and y with Feature Selection"
   ]
  },
  {
   "cell_type": "code",
   "execution_count": 17,
   "metadata": {},
   "outputs": [],
   "source": [
    "X = df.drop(exclude_list, axis =1)\n",
    "y = df['click']"
   ]
  },
  {
   "cell_type": "markdown",
   "metadata": {},
   "source": [
    "# One Hot Encoder"
   ]
  },
  {
   "cell_type": "code",
   "execution_count": 18,
   "metadata": {},
   "outputs": [],
   "source": [
    "# Get dummies\n",
    "X_encoded = pd.get_dummies(X, prefix_sep='_', drop_first=True)"
   ]
  },
  {
   "cell_type": "code",
   "execution_count": 19,
   "metadata": {},
   "outputs": [
    {
     "name": "stdout",
     "output_type": "stream",
     "text": [
      "<class 'pandas.core.frame.DataFrame'>\n",
      "Int64Index: 300000 entries, 32509287 to 33935746\n",
      "Columns: 1133 entries, hour_14102101 to C21_255\n",
      "dtypes: uint8(1133)\n",
      "memory usage: 336.4 MB\n"
     ]
    }
   ],
   "source": [
    "X_encoded.info()"
   ]
  },
  {
   "cell_type": "markdown",
   "metadata": {},
   "source": [
    "## Handle Imbalanced Data\n",
    "- Due to we have a vast dataset, thus we will perform the undersampling technique for the majority class(Non-Click,0)."
   ]
  },
  {
   "cell_type": "code",
   "execution_count": 20,
   "metadata": {},
   "outputs": [],
   "source": [
    "def down_sampling(X,y):                      \n",
    "    rus = RandomUnderSampler(random_state=7)\n",
    "    X_resampled, y_resampled = rus.fit_resample(X, y)\n",
    "    return X_resampled, y_resampled"
   ]
  },
  {
   "cell_type": "code",
   "execution_count": 21,
   "metadata": {},
   "outputs": [],
   "source": [
    "X_dn, y_dn = down_sampling(X_encoded, y)"
   ]
  },
  {
   "cell_type": "code",
   "execution_count": 22,
   "metadata": {},
   "outputs": [
    {
     "name": "stdout",
     "output_type": "stream",
     "text": [
      "Class Counts: [    0 51061     1 51061]\n"
     ]
    }
   ],
   "source": [
    "unique, counts = np.unique(y_dn, return_counts=True)\n",
    "print('Class Counts:',np.asarray((unique, counts)).T.ravel())"
   ]
  },
  {
   "cell_type": "markdown",
   "metadata": {},
   "source": [
    "# Develop Logistic Regression"
   ]
  },
  {
   "cell_type": "code",
   "execution_count": 23,
   "metadata": {},
   "outputs": [
    {
     "name": "stderr",
     "output_type": "stream",
     "text": [
      "/usr/local/lib/python3.7/site-packages/sklearn/linear_model/logistic.py:432: FutureWarning: Default solver will be changed to 'lbfgs' in 0.22. Specify a solver to silence this warning.\n",
      "  FutureWarning)\n"
     ]
    },
    {
     "data": {
      "text/plain": [
       "LogisticRegression(C=1.0, class_weight=None, dual=False, fit_intercept=True,\n",
       "                   intercept_scaling=1, l1_ratio=None, max_iter=100,\n",
       "                   multi_class='warn', n_jobs=None, penalty='l2',\n",
       "                   random_state=7, solver='warn', tol=0.0001, verbose=0,\n",
       "                   warm_start=False)"
      ]
     },
     "execution_count": 23,
     "metadata": {},
     "output_type": "execute_result"
    }
   ],
   "source": [
    "#Fitting logistic regression to the training set\n",
    "from sklearn.linear_model import LogisticRegression\n",
    "LR_Feature_Selection = LogisticRegression(random_state = seed_num)\n",
    "LR_Feature_Selection.fit(X_dn,y_dn)"
   ]
  },
  {
   "cell_type": "code",
   "execution_count": 24,
   "metadata": {},
   "outputs": [
    {
     "name": "stdout",
     "output_type": "stream",
     "text": [
      "AUC:  0.6497032960576564\n"
     ]
    }
   ],
   "source": [
    "predictions = LR_Feature_Selection.predict(X_dn)\n",
    "print('AUC: ', roc_auc_score(y_dn, predictions))"
   ]
  },
  {
   "cell_type": "markdown",
   "metadata": {},
   "source": [
    "# Model_Summary"
   ]
  },
  {
   "cell_type": "code",
   "execution_count": 25,
   "metadata": {},
   "outputs": [],
   "source": [
    "# Make a model summary report\n",
    "def model_report(X_test,y_test,GridSearchCV_List,model_func):\n",
    "\n",
    "    model_list = []\n",
    "    accuracy_list = []\n",
    "    balanced_acc_list = []\n",
    "    auc_list = []\n",
    "    cm_list = []\n",
    "    recall_list = []\n",
    "    precision_list = []\n",
    "    ap_list = []\n",
    "    f1_list = []\n",
    "    best_params_list = []\n",
    "    \n",
    "\n",
    "    for i,j in enumerate(GridSearchCV_List):\n",
    "        locals()[j] = model_func[i]\n",
    "        \n",
    "        if isinstance(model_func[i], \n",
    "                      (sklearn.model_selection._search.RandomizedSearchCV,\n",
    "                       sklearn.model_selection.GridSearchCV)):            \n",
    "            y_pred = eval(j+'.best_estimator_.predict(X_test)')\n",
    "            P_true = eval(j+'.predict_proba(X_test)[:, 1]')\n",
    "            best_params = eval(j+'.best_params_')\n",
    "            best_params_list.append(best_params)\n",
    "        else:\n",
    "            y_pred = eval(j+'.predict(X_test)')\n",
    "            P_true = eval(j+'.predict_proba(X_test)[:, 1]')\n",
    "             \n",
    "        model_name = j\n",
    "        TP, FN, FP, TN = confusion_matrix(y_test, y_pred, labels=[1, 0]).ravel()\n",
    "        \n",
    "        Accuracy = round(accuracy_score(y_test, y_pred), 2)\n",
    "        bal_acc = round(balanced_accuracy_score(y_test, y_pred),2)\n",
    "        auc = round(roc_auc_score(y_test, P_true), 2)\n",
    "        cm = dict(TP=TP, FP=FP, FN=FN, TN=TN)\n",
    "        Recall = round(recall_score(y_test, y_pred, average='binary'), 2)\n",
    "        Precision = round(precision_score(y_test, y_pred, average='binary'), 2)\n",
    "        ap = round(average_precision_score(y_test, P_true, pos_label=1), 2)\n",
    "        F1_score = round(f1_score(y_test, y_pred,average='binary'), 2)\n",
    "        \n",
    "        \n",
    "        model_list.append(model_name)\n",
    "        accuracy_list.append(Accuracy)\n",
    "        balanced_acc_list.append(bal_acc)\n",
    "        auc_list.append(auc)\n",
    "        cm_list.append(cm)\n",
    "        recall_list.append(Recall)\n",
    "        precision_list.append(Precision)\n",
    "        ap_list.append(ap)\n",
    "        f1_list.append(F1_score)\n",
    "        \n",
    "        \n",
    "\n",
    "    report = dict(Model = model_list,\n",
    "                  Accuracy = accuracy_list,\n",
    "                  Balanced_Accuracy = balanced_acc_list,\n",
    "                  AUC = auc_list,\n",
    "                  Confusion_Matrix = cm_list,\n",
    "                  Recall = recall_list,\n",
    "                  Precision = precision_list,\n",
    "                  Average_Precision = ap_list,\n",
    "                  F1_score = f1_list,\n",
    "#                   Best_Parameters = best_params_list \n",
    "                 )\n",
    "    \n",
    "    df_report = pd.DataFrame.from_dict(report)\n",
    "    pd.set_option('display.max_colwidth', -1)\n",
    "    \n",
    "    return df_report"
   ]
  },
  {
   "cell_type": "code",
   "execution_count": 26,
   "metadata": {},
   "outputs": [
    {
     "data": {
      "text/html": [
       "<div>\n",
       "<style scoped>\n",
       "    .dataframe tbody tr th:only-of-type {\n",
       "        vertical-align: middle;\n",
       "    }\n",
       "\n",
       "    .dataframe tbody tr th {\n",
       "        vertical-align: top;\n",
       "    }\n",
       "\n",
       "    .dataframe thead th {\n",
       "        text-align: right;\n",
       "    }\n",
       "</style>\n",
       "<table border=\"1\" class=\"dataframe\">\n",
       "  <thead>\n",
       "    <tr style=\"text-align: right;\">\n",
       "      <th></th>\n",
       "      <th>Model</th>\n",
       "      <th>Accuracy</th>\n",
       "      <th>Balanced_Accuracy</th>\n",
       "      <th>AUC</th>\n",
       "      <th>Confusion_Matrix</th>\n",
       "      <th>Recall</th>\n",
       "      <th>Precision</th>\n",
       "      <th>Average_Precision</th>\n",
       "      <th>F1_score</th>\n",
       "    </tr>\n",
       "  </thead>\n",
       "  <tbody>\n",
       "    <tr>\n",
       "      <th>0</th>\n",
       "      <td>LR_Feature_Selection</td>\n",
       "      <td>0.65</td>\n",
       "      <td>0.65</td>\n",
       "      <td>0.71</td>\n",
       "      <td>{'TP': 36576, 'FP': 21288, 'FN': 14485, 'TN': 29773}</td>\n",
       "      <td>0.72</td>\n",
       "      <td>0.63</td>\n",
       "      <td>0.69</td>\n",
       "      <td>0.67</td>\n",
       "    </tr>\n",
       "  </tbody>\n",
       "</table>\n",
       "</div>"
      ],
      "text/plain": [
       "                  Model  Accuracy  Balanced_Accuracy   AUC                                      Confusion_Matrix  Recall  Precision  Average_Precision  F1_score\n",
       "0  LR_Feature_Selection  0.65      0.65               0.71  {'TP': 36576, 'FP': 21288, 'FN': 14485, 'TN': 29773}  0.72    0.63       0.69               0.67    "
      ]
     },
     "execution_count": 26,
     "metadata": {},
     "output_type": "execute_result"
    }
   ],
   "source": [
    "model_List = ['LR_Feature_Selection']\n",
    "model_func = [LR_Feature_Selection]\n",
    "model_report(X_dn, y_dn, model_List, model_func)"
   ]
  },
  {
   "cell_type": "markdown",
   "metadata": {},
   "source": [
    "# Choose Most Important Feature"
   ]
  },
  {
   "cell_type": "code",
   "execution_count": 27,
   "metadata": {},
   "outputs": [
    {
     "name": "stdout",
     "output_type": "stream",
     "text": [
      "Smallest Coef: \n",
      "['C17_2260' 'C21_110' 'app_domain_a8b0bf20' 'C17_1955' 'C20_100061'\n",
      " 'C17_898' 'device_conn_type_5' 'site_category_a818d37a'\n",
      " 'app_category_fc6fa53d' 'C17_2611' 'C20_100195' 'C17_2601' 'C17_2691'\n",
      " 'C17_2589' 'C17_2369' 'C20_100037' 'app_domain_c6824def' 'C17_2606'\n",
      " 'app_domain_2b627705' 'C17_2599' 'C17_2532' 'app_domain_5c620f04'\n",
      " 'C20_100032' 'C17_2577' 'C17_2625' 'C17_2339' 'C17_2648' 'C17_1821'\n",
      " 'C17_2250' 'app_category_4681bb9d' 'C17_394' 'C17_2643' 'C20_100064'\n",
      " 'C17_2713' 'app_domain_0d79ee56' 'C17_2705' 'C17_2571' 'C17_2505'\n",
      " 'app_domain_828da833' 'C17_2613']\n",
      "\n",
      "Largest Coef: \n",
      "['site_category_dedf689d' 'C17_2518' 'C17_2286' 'banner_pos_7' 'C17_2284'\n",
      " 'app_domain_99b4c806' 'C17_2544' 'C17_2604' 'C17_2743' 'C20_100004'\n",
      " 'C17_2681' 'banner_pos_2' 'C20_100000' 'C17_2295' 'C17_827' 'C19_1059'\n",
      " 'C17_2569' 'C17_2412' 'C17_1835' 'C17_2565' 'C17_1092' 'C21_94'\n",
      " 'app_domain_b8d325c3' 'app_domain_6f7ca2ba' 'C21_15' 'C17_1255'\n",
      " 'C17_2446' 'site_category_42a36e14' 'C17_2756' 'C17_686' 'C17_178'\n",
      " 'C20_100049' 'C17_2662' 'C20_100123' 'C17_2439' 'C17_2663' 'C17_2672'\n",
      " 'C17_1872' 'C20_100022' 'C20_100179']\n",
      "\n"
     ]
    }
   ],
   "source": [
    "topn = 100\n",
    "\n",
    "feature_names = np.array(X_encoded.columns.to_list())\n",
    "sorted_coef_index = LR_Feature_Selection.coef_[0].argsort()\n",
    "\n",
    "print('Smallest Coef: \\n{}\\n'.format(feature_names[sorted_coef_index][:topn]))\n",
    "print('Largest Coef: \\n{}\\n'.format(feature_names[sorted_coef_index][:-topn-1:-1]))"
   ]
  },
  {
   "cell_type": "code",
   "execution_count": 28,
   "metadata": {},
   "outputs": [
    {
     "data": {
      "text/plain": [
       "array([ 556, 1108,  345, ...,  568,  656,  268])"
      ]
     },
     "execution_count": 28,
     "metadata": {},
     "output_type": "execute_result"
    }
   ],
   "source": [
    "LR_Feature_Selection.coef_[0].argsort()"
   ]
  },
  {
   "cell_type": "code",
   "execution_count": 29,
   "metadata": {},
   "outputs": [
    {
     "data": {
      "text/plain": [
       "array([ 556, 1108,  345,  517,  957,  462,  424,  264,  418,  733, 1054,\n",
       "        723,  803,  713,  589,  938,  368,  728,  290,  721,  668,  312,\n",
       "        935,  704,  743,  585,  762,  499,  554,  403,  444,  757,  960,\n",
       "        818,  274,  810,  699,  647,  327,  735])"
      ]
     },
     "execution_count": 29,
     "metadata": {},
     "output_type": "execute_result"
    }
   ],
   "source": [
    "sorted_coef_index[:topn]"
   ]
  },
  {
   "cell_type": "code",
   "execution_count": 30,
   "metadata": {},
   "outputs": [
    {
     "data": {
      "text/plain": [
       "array([-2.01493962, -1.45339459, -1.38289048, -1.35450534, -1.35044909,\n",
       "       -1.30461176, -1.2959397 , -1.27476133, -1.27193168, -1.27125192,\n",
       "       -1.25577232, -1.24700486, -1.23162782, -1.15750262, -1.15616654,\n",
       "       -1.15513147, -1.1371255 , -1.08144354, -1.07327478, -1.06614439,\n",
       "       -1.01850022, -1.0169563 , -1.00317623, -0.99900391, -0.99719711,\n",
       "       -0.98432466, -0.97359436, -0.97342823, -0.96907336, -0.96033203,\n",
       "       -0.95765125, -0.94828397, -0.9347055 , -0.93077912, -0.92928835,\n",
       "       -0.90559109, -0.89722389, -0.88554299, -0.86256453, -0.83926962])"
      ]
     },
     "execution_count": 30,
     "metadata": {},
     "output_type": "execute_result"
    }
   ],
   "source": [
    "# Smallest Coef\n",
    "LR_Feature_Selection.coef_[0][sorted_coef_index[:topn]]"
   ]
  },
  {
   "cell_type": "code",
   "execution_count": 31,
   "metadata": {
    "scrolled": true
   },
   "outputs": [
    {
     "data": {
      "text/plain": [
       "array([1.99603941, 1.71175159, 1.66906454, 1.55948825, 1.4130898 ,\n",
       "       1.40959113, 1.30142455, 1.27580198, 1.1918966 , 1.16794755,\n",
       "       1.15548668, 1.1411611 , 1.13658927, 1.06830703, 1.06745284,\n",
       "       1.02898165, 1.02646504, 1.02011154, 0.98123536, 0.96308332,\n",
       "       0.94152847, 0.93832983, 0.93023123, 0.91801988, 0.91191514,\n",
       "       0.90892324, 0.90756277, 0.90638909, 0.90200728, 0.88514593,\n",
       "       0.86442085, 0.85530863, 0.83627495, 0.82447183, 0.81958209,\n",
       "       0.77871688, 0.77844248, 0.76871542, 0.7595556 , 0.75429352])"
      ]
     },
     "execution_count": 31,
     "metadata": {},
     "output_type": "execute_result"
    }
   ],
   "source": [
    "# Largest Coef\n",
    "LR_Feature_Selection.coef_[0][sorted_coef_index[:-topn-1:-1]]"
   ]
  },
  {
   "cell_type": "markdown",
   "metadata": {},
   "source": [
    "# List Selected Feature"
   ]
  },
  {
   "cell_type": "code",
   "execution_count": 32,
   "metadata": {},
   "outputs": [
    {
     "data": {
      "text/plain": [
       "40"
      ]
     },
     "execution_count": 32,
     "metadata": {},
     "output_type": "execute_result"
    }
   ],
   "source": [
    "topn"
   ]
  },
  {
   "cell_type": "code",
   "execution_count": 33,
   "metadata": {},
   "outputs": [
    {
     "data": {
      "text/plain": [
       "['C17_1821',\n",
       " 'C17_1955',\n",
       " 'C17_2250',\n",
       " 'C17_2260',\n",
       " 'C17_2339',\n",
       " 'C17_2369',\n",
       " 'C17_2505',\n",
       " 'C17_2532',\n",
       " 'C17_2571',\n",
       " 'C17_2577',\n",
       " 'C17_2589',\n",
       " 'C17_2599',\n",
       " 'C17_2601',\n",
       " 'C17_2606',\n",
       " 'C17_2611',\n",
       " 'C17_2613',\n",
       " 'C17_2625',\n",
       " 'C17_2643',\n",
       " 'C17_2648',\n",
       " 'C17_2691',\n",
       " 'C17_2705',\n",
       " 'C17_2713',\n",
       " 'C17_394',\n",
       " 'C17_898',\n",
       " 'C20_100032',\n",
       " 'C20_100037',\n",
       " 'C20_100061',\n",
       " 'C20_100064',\n",
       " 'C20_100195',\n",
       " 'C21_110',\n",
       " 'app_category_4681bb9d',\n",
       " 'app_category_fc6fa53d',\n",
       " 'app_domain_0d79ee56',\n",
       " 'app_domain_2b627705',\n",
       " 'app_domain_5c620f04',\n",
       " 'app_domain_828da833',\n",
       " 'app_domain_a8b0bf20',\n",
       " 'app_domain_c6824def',\n",
       " 'device_conn_type_5',\n",
       " 'site_category_a818d37a']"
      ]
     },
     "execution_count": 33,
     "metadata": {},
     "output_type": "execute_result"
    }
   ],
   "source": [
    "# feature_list = list(feature_names[sorted_coef_index][:topn]) + list(feature_names[sorted_coef_index][:-topn-1:-1])\n",
    "feature_list = list(feature_names[sorted_coef_index][:topn])\n",
    "feature_list.sort()\n",
    "feature_list"
   ]
  },
  {
   "cell_type": "code",
   "execution_count": 34,
   "metadata": {
    "scrolled": false
   },
   "outputs": [
    {
     "name": "stdout",
     "output_type": "stream",
     "text": [
      "Unique Feature:  7\n",
      "dict_keys(['C17', 'C20', 'C21', 'app_category', 'app_domain', 'device_conn_type', 'site_category'])\n",
      "\n",
      "{'C17': ['1821', '1955', '2250', '2260', '2339', '2369', '2505', '2532', '2571', '2577', '2589', '2599', '2601', '2606', '2611', '2613', '2625', '2643', '2648', '2691', '2705', '2713', '394', '898'], 'C20': ['100032', '100037', '100061', '100064', '100195'], 'C21': ['110'], 'app_category': ['4681bb9d', 'fc6fa53d'], 'app_domain': ['0d79ee56', '2b627705', '5c620f04', '828da833', 'a8b0bf20', 'c6824def'], 'device_conn_type': ['5'], 'site_category': ['a818d37a']}\n"
     ]
    }
   ],
   "source": [
    "# Store most impact feature in dict\n",
    "feature_selction_dict = {}\n",
    "val_list = []\n",
    "temp = ('_').join(sorted(list(feature_list))[0].split('_')[:-1])\n",
    "for fea in sorted(list(feature_list)):\n",
    "    fea_nam, fea_val = ('_').join(fea.split('_')[:-1]), fea.split('_')[-1]\n",
    "    if fea_nam == temp:\n",
    "        val_list.append(fea_val)\n",
    "    else:\n",
    "        feature_selction_dict[temp] = val_list\n",
    "        val_list = []\n",
    "        val_list.append(fea_val)\n",
    "    temp = fea_nam\n",
    "feature_selction_dict[temp] = val_list\n",
    "    \n",
    "\n",
    "print('Unique Feature: ',len(feature_selction_dict.keys()))\n",
    "print(feature_selction_dict.keys())\n",
    "print()\n",
    "print(feature_selction_dict)"
   ]
  },
  {
   "cell_type": "markdown",
   "metadata": {},
   "source": [
    "# Re-load data with Feature Selection"
   ]
  },
  {
   "cell_type": "code",
   "execution_count": 35,
   "metadata": {},
   "outputs": [
    {
     "data": {
      "text/plain": [
       "['id',\n",
       " 'click',\n",
       " 'hour',\n",
       " 'C1',\n",
       " 'banner_pos',\n",
       " 'site_id',\n",
       " 'site_domain',\n",
       " 'site_category',\n",
       " 'app_id',\n",
       " 'app_domain',\n",
       " 'app_category',\n",
       " 'device_id',\n",
       " 'device_ip',\n",
       " 'device_model',\n",
       " 'device_type',\n",
       " 'device_conn_type',\n",
       " 'C14',\n",
       " 'C15',\n",
       " 'C16',\n",
       " 'C17',\n",
       " 'C18',\n",
       " 'C19',\n",
       " 'C20',\n",
       " 'C21']"
      ]
     },
     "execution_count": 35,
     "metadata": {},
     "output_type": "execute_result"
    }
   ],
   "source": [
    "col_list = df.columns.to_list()\n",
    "col_list"
   ]
  },
  {
   "cell_type": "code",
   "execution_count": 36,
   "metadata": {},
   "outputs": [
    {
     "data": {
      "text/plain": [
       "['id',\n",
       " 'click',\n",
       " 'hour',\n",
       " 'C1',\n",
       " 'banner_pos',\n",
       " 'site_id',\n",
       " 'site_domain',\n",
       " 'app_id',\n",
       " 'device_id',\n",
       " 'device_ip',\n",
       " 'device_model',\n",
       " 'device_type',\n",
       " 'C14',\n",
       " 'C15',\n",
       " 'C16',\n",
       " 'C18',\n",
       " 'C19']"
      ]
     },
     "execution_count": 36,
     "metadata": {},
     "output_type": "execute_result"
    }
   ],
   "source": [
    "exclude_list = [col for col in col_list if col not in feature_selction_dict.keys()]\n",
    "exclude_list"
   ]
  },
  {
   "cell_type": "code",
   "execution_count": 37,
   "metadata": {},
   "outputs": [],
   "source": [
    "def Load_and_Downsam(df, feature_selected = feature_selction_dict, feature_excluded = exclude_list):\n",
    "\n",
    "    all_column = df.drop(['id'], axis =1).columns.tolist()\n",
    "    df = cvt_type(df, col_list=all_column)\n",
    "    \n",
    "    for key,val in feature_selected.items():\n",
    "        df[key] = df[key].apply(lambda x: x if x in val else '0')\n",
    "        \n",
    "    df = df.reset_index(drop=True)\n",
    "    X = df.drop(feature_excluded, axis =1)\n",
    "    y = df['click']\n",
    "\n",
    "    # Get dummies\n",
    "    X_encoded = pd.get_dummies(X, prefix_sep='_', drop_first=True)\n",
    "    # X head\n",
    "    print('Numberof encoded Column', len(X_encoded.columns))\n",
    "    X_dn, y_dn = down_sampling(X_encoded, y)\n",
    "    return X_encoded, X_dn, y_dn"
   ]
  },
  {
   "cell_type": "code",
   "execution_count": 38,
   "metadata": {},
   "outputs": [
    {
     "name": "stdout",
     "output_type": "stream",
     "text": [
      "Numberof encoded Column 9\n",
      "Execution time =  563.0509293079376  seconds\n"
     ]
    }
   ],
   "source": [
    "start = time()\n",
    "X_encoded, X_dn_all, y_dn_all = Load_and_Downsam(df_concat, feature_selected = feature_selction_dict, feature_excluded = exclude_list)\n",
    "t = time() - start\n",
    "print('Execution time = ', t, ' seconds')"
   ]
  },
  {
   "cell_type": "code",
   "execution_count": 39,
   "metadata": {},
   "outputs": [
    {
     "name": "stdout",
     "output_type": "stream",
     "text": [
      "Class Counts: [      0 6865066       1 6865066]\n"
     ]
    }
   ],
   "source": [
    "unique, counts = np.unique(y_dn_all, return_counts=True)\n",
    "print('Class Counts:',np.asarray((unique, counts)).T.ravel())"
   ]
  },
  {
   "cell_type": "code",
   "execution_count": 40,
   "metadata": {},
   "outputs": [
    {
     "name": "stderr",
     "output_type": "stream",
     "text": [
      "/usr/local/lib/python3.7/site-packages/sklearn/linear_model/logistic.py:432: FutureWarning: Default solver will be changed to 'lbfgs' in 0.22. Specify a solver to silence this warning.\n",
      "  FutureWarning)\n"
     ]
    },
    {
     "data": {
      "text/plain": [
       "LogisticRegression(C=1.0, class_weight=None, dual=False, fit_intercept=True,\n",
       "                   intercept_scaling=1, l1_ratio=None, max_iter=100,\n",
       "                   multi_class='warn', n_jobs=None, penalty='l2',\n",
       "                   random_state=7, solver='warn', tol=0.0001, verbose=0,\n",
       "                   warm_start=False)"
      ]
     },
     "execution_count": 40,
     "metadata": {},
     "output_type": "execute_result"
    }
   ],
   "source": [
    "LR_all = LogisticRegression(random_state = seed_num)\n",
    "LR_all.fit(X_dn_all,y_dn_all)"
   ]
  },
  {
   "cell_type": "code",
   "execution_count": 41,
   "metadata": {},
   "outputs": [
    {
     "name": "stdout",
     "output_type": "stream",
     "text": [
      "AUC:  0.5015507498398413\n"
     ]
    }
   ],
   "source": [
    "predictions = LR_all.predict(X_dn_all)\n",
    "print('AUC: ', roc_auc_score(y_dn_all, predictions))"
   ]
  },
  {
   "cell_type": "code",
   "execution_count": 42,
   "metadata": {},
   "outputs": [
    {
     "data": {
      "text/html": [
       "<div>\n",
       "<style scoped>\n",
       "    .dataframe tbody tr th:only-of-type {\n",
       "        vertical-align: middle;\n",
       "    }\n",
       "\n",
       "    .dataframe tbody tr th {\n",
       "        vertical-align: top;\n",
       "    }\n",
       "\n",
       "    .dataframe thead th {\n",
       "        text-align: right;\n",
       "    }\n",
       "</style>\n",
       "<table border=\"1\" class=\"dataframe\">\n",
       "  <thead>\n",
       "    <tr style=\"text-align: right;\">\n",
       "      <th></th>\n",
       "      <th>Model</th>\n",
       "      <th>Accuracy</th>\n",
       "      <th>Balanced_Accuracy</th>\n",
       "      <th>AUC</th>\n",
       "      <th>Confusion_Matrix</th>\n",
       "      <th>Recall</th>\n",
       "      <th>Precision</th>\n",
       "      <th>Average_Precision</th>\n",
       "      <th>F1_score</th>\n",
       "    </tr>\n",
       "  </thead>\n",
       "  <tbody>\n",
       "    <tr>\n",
       "      <th>0</th>\n",
       "      <td>LR_all</td>\n",
       "      <td>0.5</td>\n",
       "      <td>0.5</td>\n",
       "      <td>0.5</td>\n",
       "      <td>{'TP': 6859846, 'FP': 6838554, 'FN': 5220, 'TN': 26512}</td>\n",
       "      <td>1.0</td>\n",
       "      <td>0.5</td>\n",
       "      <td>0.5</td>\n",
       "      <td>0.67</td>\n",
       "    </tr>\n",
       "  </tbody>\n",
       "</table>\n",
       "</div>"
      ],
      "text/plain": [
       "    Model  Accuracy  Balanced_Accuracy  AUC                                         Confusion_Matrix  Recall  Precision  Average_Precision  F1_score\n",
       "0  LR_all  0.5       0.5                0.5  {'TP': 6859846, 'FP': 6838554, 'FN': 5220, 'TN': 26512}  1.0     0.5        0.5                0.67    "
      ]
     },
     "execution_count": 42,
     "metadata": {},
     "output_type": "execute_result"
    }
   ],
   "source": [
    "model_List = ['LR_all']\n",
    "model_func = [LR_all]\n",
    "model_report(X_dn_all, y_dn_all, model_List, model_func)"
   ]
  },
  {
   "cell_type": "code",
   "execution_count": null,
   "metadata": {},
   "outputs": [],
   "source": []
  }
 ],
 "metadata": {
  "kernelspec": {
   "display_name": "Python 3",
   "language": "python",
   "name": "python3"
  },
  "language_info": {
   "codemirror_mode": {
    "name": "ipython",
    "version": 3
   },
   "file_extension": ".py",
   "mimetype": "text/x-python",
   "name": "python",
   "nbconvert_exporter": "python",
   "pygments_lexer": "ipython3",
   "version": "3.7.4"
  }
 },
 "nbformat": 4,
 "nbformat_minor": 2
}
